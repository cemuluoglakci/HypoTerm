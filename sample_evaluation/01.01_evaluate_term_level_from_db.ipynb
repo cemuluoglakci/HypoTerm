{
 "cells": [
  {
   "cell_type": "markdown",
   "metadata": {},
   "source": [
    "Requirements:\n",
    "* Optional: Relational Database (MySQL)\n",
    "* OpenAI API key / Ollama Container\n",
    "\n",
    "Outputs:\n",
    "* Intermediate level evaluations"
   ]
  },
  {
   "cell_type": "code",
   "execution_count": 1,
   "metadata": {},
   "outputs": [],
   "source": [
    "# import external libraries\n",
    "import os\n",
    "import sys\n",
    "import pandas as pd"
   ]
  },
  {
   "cell_type": "code",
   "execution_count": 2,
   "metadata": {},
   "outputs": [],
   "source": [
    "# import local modules\n",
    "current_dir = os.path.dirname(os.path.abspath('__file__'))\n",
    "parent_dir = os.path.dirname(current_dir)\n",
    "data_dir = os.path.join(parent_dir, 'data')\n",
    "\n",
    "sys.path.append(os.path.join(parent_dir))\n",
    "\n",
    "from src.answerevaluator import AnswerEvaluator\n",
    "from src.sqldb import HallucinationDb\n",
    "import settings"
   ]
  },
  {
   "cell_type": "code",
   "execution_count": 3,
   "metadata": {},
   "outputs": [],
   "source": [
    "MODEL_UNDER_TEST = 'gpt-3.5-turbo'\n",
    "EVALUATOR_MODEL = 'gpt-3.5-turbo'\n",
    "model_id = 1 #\"gpt-3.5-turbo\""
   ]
  },
  {
   "cell_type": "code",
   "execution_count": 4,
   "metadata": {},
   "outputs": [],
   "source": [
    "hallucinationDb = HallucinationDb(settings)\n",
    "evaluator = AnswerEvaluator(EVALUATOR_MODEL, settings)"
   ]
  },
  {
   "cell_type": "code",
   "execution_count": 5,
   "metadata": {},
   "outputs": [],
   "source": [
    "answers_table = hallucinationDb.GetTableDefinition(hallucinationDb.COMBINED_TERMS_ANSWERS)\n",
    "answers_query = answers_table.select().where(answers_table.c.answer_source_id == model_id)\n",
    "answers_df = pd.read_sql(answers_query, hallucinationDb.sql.connection)"
   ]
  },
  {
   "cell_type": "code",
   "execution_count": null,
   "metadata": {},
   "outputs": [],
   "source": [
    "evaluator.process_evaluation(answers_df, verbose=True)"
   ]
  }
 ],
 "metadata": {
  "kernelspec": {
   "display_name": "venv",
   "language": "python",
   "name": "python3"
  },
  "language_info": {
   "codemirror_mode": {
    "name": "ipython",
    "version": 3
   },
   "file_extension": ".py",
   "mimetype": "text/x-python",
   "name": "python",
   "nbconvert_exporter": "python",
   "pygments_lexer": "ipython3",
   "version": "3.10.5"
  }
 },
 "nbformat": 4,
 "nbformat_minor": 2
}
