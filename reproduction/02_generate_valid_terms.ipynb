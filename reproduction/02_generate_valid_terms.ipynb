{
 "cells": [
  {
   "cell_type": "markdown",
   "metadata": {},
   "source": [
    "Requirements:\n",
    "* Wikipedia on NoSql DB\n",
    "* SQL DB\n",
    "* OpenAI API key\n",
    "\n",
    "Outputs:\n",
    "* related_terms.csv\n",
    "* llm_suggestion_terms.csv"
   ]
  },
  {
   "cell_type": "code",
   "execution_count": 7,
   "metadata": {},
   "outputs": [],
   "source": [
    "# import external libraries\n",
    "import sys\n",
    "import os\n",
    "import json\n",
    "import pandas as pd\n",
    "import re\n",
    "import time\n",
    "import openai"
   ]
  },
  {
   "cell_type": "code",
   "execution_count": 3,
   "metadata": {},
   "outputs": [],
   "source": [
    "# import local modules\n",
    "current_dir = os.path.dirname(os.path.abspath('__file__'))\n",
    "parent_dir = os.path.dirname(current_dir)\n",
    "data_dir = os.path.join(parent_dir, 'data')\n",
    "\n",
    "sys.path.append(os.path.join(parent_dir))\n",
    "\n",
    "from wiki.search import WikiSearcher\n",
    "from src.searchUnexistent import Searcher\n",
    "from src.utilities import get_strtime\n",
    "from prompts import templates"
   ]
  },
  {
   "cell_type": "markdown",
   "metadata": {},
   "source": [
    "#### Generate real terms"
   ]
  },
  {
   "cell_type": "code",
   "execution_count": 8,
   "metadata": {},
   "outputs": [],
   "source": [
    "def try_gptapi_call(messages, temperature=0, model=\"gpt-3.5-turbo\"):\n",
    "    for i in range(3):\n",
    "        try:\n",
    "            return openai.ChatCompletion.create(\n",
    "                model=model,\n",
    "                temperature=temperature,\n",
    "                messages=messages)\n",
    "        except Exception as exc:\n",
    "            print(f\"Exception: {exc}\")\n",
    "            time.sleep(60)\n",
    "            continue\n",
    "\n",
    "topics = json.load(open(os.path.join(data_dir, 'intermediate', 'topics.json')))\n",
    "\n",
    "def get_topic_with_explanation(topic_title):\n",
    "    return[topic for topic in topics if topic_title in topic ][0]"
   ]
  },
  {
   "cell_type": "code",
   "execution_count": 4,
   "metadata": {},
   "outputs": [],
   "source": [
    "term_candidates_path = os.path.join(data_dir, \"intermediate\", \"hypothetical_term_candidates.csv\")\n",
    "term_candidates_df = pd.read_csv(term_candidates_path)\n",
    "hypothetical_terms_df = term_candidates_df[term_candidates_df[\"exists\"] == False]"
   ]
  },
  {
   "cell_type": "code",
   "execution_count": 5,
   "metadata": {},
   "outputs": [],
   "source": [
    "related_terms_list = []"
   ]
  },
  {
   "cell_type": "code",
   "execution_count": null,
   "metadata": {},
   "outputs": [],
   "source": [
    "for index, row in hypothetical_terms_df.iterrows():\n",
    "    system_prompt = templates.related_wiki_term_generator_system\n",
    "    user_prompt = templates.related_term_generator_user.format(\n",
    "        topic=get_topic_with_explanation(row[\"topic\"]), \n",
    "        madeup_term=f\"\"\"{row[\"term\"]}: {row[\"explanation\"]}\"\"\")\n",
    "    \n",
    "    messages = [{\"role\": \"system\", \"content\": system_prompt},\n",
    "                {\"role\": \"user\", \"content\": user_prompt}]\n",
    "    \n",
    "    response = try_gptapi_call(messages, temperature=0)\n",
    "    related_terms = response['choices'][0]['message']['content']\n",
    "\n",
    "    related_terms_list.append(related_terms)"
   ]
  },
  {
   "cell_type": "code",
   "execution_count": null,
   "metadata": {},
   "outputs": [],
   "source": [
    "hypothetical_terms_df[\"related_term\"] = related_terms_list\n",
    "hypothetical_terms_df.to_csv(f\"related_terms_{get_strtime()}.csv\", index=False, sep=\"\\t\")"
   ]
  },
  {
   "cell_type": "markdown",
   "metadata": {},
   "source": [
    "#### Validate Generated Terms"
   ]
  },
  {
   "cell_type": "code",
   "execution_count": 13,
   "metadata": {},
   "outputs": [],
   "source": [
    "hypothetical_terms_path = os.path.join(data_dir, \"intermediate\", \"related_terms.csv\")\n",
    "hypothetical_terms_df = pd.read_csv(hypothetical_terms_path, delimiter=\"\\t\")"
   ]
  },
  {
   "cell_type": "code",
   "execution_count": 14,
   "metadata": {},
   "outputs": [],
   "source": [
    "wiki_searcher = WikiSearcher()"
   ]
  },
  {
   "cell_type": "code",
   "execution_count": 15,
   "metadata": {},
   "outputs": [],
   "source": [
    "def str2list(list_str):\n",
    "    list_str = list_str.replace(\"... \", \"' \")\n",
    "    if  \",\" in list_str:\n",
    "        terms_list=[term.strip()[1:-1] for term in list_str[1:-1].split(\",\")]\n",
    "    else:\n",
    "        terms_list = [re.sub(r'[0-9.]', \"\", term).strip() for term in list_str.split(\"\\n\")]\n",
    "    return terms_list"
   ]
  },
  {
   "cell_type": "code",
   "execution_count": 16,
   "metadata": {},
   "outputs": [],
   "source": [
    "related_terms_dict = {}\n",
    "wiki_terms = []\n",
    "nonwiki_terms = []\n",
    "ambiguous_terms = []"
   ]
  },
  {
   "cell_type": "code",
   "execution_count": 18,
   "metadata": {},
   "outputs": [],
   "source": [
    "for index, row in hypothetical_terms_df.iterrows():\n",
    "    related_terms = str2list(row[\"related_term\"])\n",
    "    for term in related_terms:\n",
    "        if term in related_terms_dict:\n",
    "            continue\n",
    "        definition = wiki_searcher.get_definition(term)\n",
    "        if definition == \"None\":\n",
    "            nonwiki_terms.append(term)\n",
    "        elif definition == \"ambiguous\":\n",
    "            ambiguous_terms.append(term)\n",
    "        else:\n",
    "            wiki_terms.append(term)\n",
    "        related_terms_dict[term] = definition"
   ]
  },
  {
   "cell_type": "code",
   "execution_count": 19,
   "metadata": {},
   "outputs": [
    {
     "name": "stdout",
     "output_type": "stream",
     "text": [
      "related_terms_dict length 14271\n",
      "wiki_terms length 5914\n",
      "nonwiki_terms length 7750\n",
      "ambiguous_terms length 607\n"
     ]
    }
   ],
   "source": [
    "print(f\"related_terms_dict length {len(related_terms_dict)}\")\n",
    "print(f\"wiki_terms length {len(wiki_terms)}\")\n",
    "print(f\"nonwiki_terms length {len(nonwiki_terms)}\")\n",
    "print(f\"ambiguous_terms length {len(ambiguous_terms)}\")"
   ]
  },
  {
   "cell_type": "markdown",
   "metadata": {},
   "source": [
    "#### Save Validated Terms to SQL"
   ]
  },
  {
   "cell_type": "code",
   "execution_count": 20,
   "metadata": {},
   "outputs": [],
   "source": [
    "from src.sqldb import HallucinationDb\n",
    "import settings"
   ]
  },
  {
   "cell_type": "code",
   "execution_count": 21,
   "metadata": {},
   "outputs": [],
   "source": [
    "hallucinationDb = HallucinationDb(settings)"
   ]
  },
  {
   "cell_type": "code",
   "execution_count": null,
   "metadata": {},
   "outputs": [],
   "source": [
    "real_terms_table = hallucinationDb.GetTableDefinition(hallucinationDb.REAL_TERMS_TABLE)\n",
    "nonexistent_real_table = hallucinationDb.GetTableDefinition(hallucinationDb.NONEXISTENT_REAL_TABLE)"
   ]
  },
  {
   "cell_type": "code",
   "execution_count": null,
   "metadata": {},
   "outputs": [],
   "source": [
    "def check_term(term_name):\n",
    "    result_row = hallucinationDb.sql.execute(real_terms_table.select().where(real_terms_table.c.term == term_name)).fetchone()\n",
    "    if result_row:\n",
    "        return result_row[real_terms_table.c.id]\n",
    "    else:\n",
    "        return 0"
   ]
  },
  {
   "cell_type": "code",
   "execution_count": null,
   "metadata": {},
   "outputs": [],
   "source": [
    "for index, row in hypothetical_terms_df.iterrows():\n",
    "    related_terms = str2list(row[\"related_term\"])\n",
    "\n",
    "    for term in related_terms:\n",
    "        definition = related_terms_dict[term]\n",
    "        if definition not in [\"None\", \"ambiguous\"]:\n",
    "            term_id = check_term(term)\n",
    "            if term_id == 0:\n",
    "                term_insert_result = hallucinationDb.sql.execute(\n",
    "                    real_terms_table.insert().values(\n",
    "                        term=term,\n",
    "                        explanation=definition,\n",
    "                        source_id=1\n",
    "                ))\n",
    "                term_id = term_insert_result.inserted_primary_key[0]\n",
    "            hallucinationDb.sql.execute(nonexistent_real_table.insert().values(\n",
    "                nonexistent_id = index+1,\n",
    "                real_id = term_id\n",
    "            ))"
   ]
  },
  {
   "cell_type": "markdown",
   "metadata": {},
   "source": [
    "#### Create dataframe for related terms"
   ]
  },
  {
   "cell_type": "code",
   "execution_count": null,
   "metadata": {},
   "outputs": [],
   "source": [
    "term_list = []\n",
    "definition_list = []\n",
    "topic_list = []\n",
    "parent_term_list = []"
   ]
  },
  {
   "cell_type": "code",
   "execution_count": null,
   "metadata": {},
   "outputs": [],
   "source": [
    "for index, row in hypothetical_terms_df.iterrows():\n",
    "    related_terms = str2list(row[\"related_term\"])\n",
    "\n",
    "    for term in related_terms:\n",
    "        definition = related_terms_dict[term]\n",
    "        if definition not in [\"None\", \"ambiguous\"]:\n",
    "            term_list.append(term)\n",
    "            definition_list.append(definition)\n",
    "            topic_list.append(row[\"topic\"])\n",
    "            parent_term_list.append(row[\"term\"])"
   ]
  },
  {
   "cell_type": "code",
   "execution_count": null,
   "metadata": {},
   "outputs": [],
   "source": [
    "llm_suggestion_df = pd.DataFrame(list(zip(term_list, definition_list, topic_list, parent_term_list)), \n",
    "             columns=['term', 'explanation', 'topic', 'parent_term'])"
   ]
  },
  {
   "cell_type": "code",
   "execution_count": null,
   "metadata": {},
   "outputs": [],
   "source": [
    "llm_suggestion_df.to_csv(f\"llm_suggestion_terms_{get_strtime()}.csv\", index=False, sep=\"\\t\")"
   ]
  }
 ],
 "metadata": {
  "kernelspec": {
   "display_name": "venv",
   "language": "python",
   "name": "python3"
  },
  "language_info": {
   "codemirror_mode": {
    "name": "ipython",
    "version": 3
   },
   "file_extension": ".py",
   "mimetype": "text/x-python",
   "name": "python",
   "nbconvert_exporter": "python",
   "pygments_lexer": "ipython3",
   "version": "3.10.5"
  }
 },
 "nbformat": 4,
 "nbformat_minor": 2
}
