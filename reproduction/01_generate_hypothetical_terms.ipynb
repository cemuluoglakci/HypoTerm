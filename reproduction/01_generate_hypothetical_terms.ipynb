{
 "cells": [
  {
   "cell_type": "markdown",
   "metadata": {},
   "source": [
    "requirements:\n",
    "\n",
    "* llm access\n",
    "\n",
    "outputs:\n",
    "\n",
    "* topics.json\n",
    "* term_candidates.json\n",
    "* hypothetical_term_candidates.csv"
   ]
  },
  {
   "cell_type": "code",
   "execution_count": 2,
   "metadata": {},
   "outputs": [],
   "source": [
    "# import external libraries\n",
    "import sys\n",
    "import os\n",
    "import json\n",
    "import pandas as pd\n",
    "import numpy as np\n",
    "from io import StringIO"
   ]
  },
  {
   "cell_type": "code",
   "execution_count": 3,
   "metadata": {},
   "outputs": [],
   "source": [
    "# import local modules\n",
    "current_dir = os.path.dirname(os.path.abspath('__file__'))\n",
    "parent_dir = os.path.dirname(current_dir)\n",
    "data_dir = os.path.join(parent_dir, 'data')\n",
    "\n",
    "sys.path.append(os.path.join(parent_dir))\n",
    "sys.path.append(os.path.join(parent_dir, 'src'))\n",
    "sys.path.append(os.path.join(parent_dir, 'prompts'))\n",
    "\n",
    "from searchUnexistent import Searcher\n",
    "from utilities import get_strtime\n",
    "import templates\n",
    "import settings"
   ]
  },
  {
   "cell_type": "markdown",
   "metadata": {},
   "source": [
    "### Topic Generation Prompt"
   ]
  },
  {
   "cell_type": "code",
   "execution_count": 4,
   "metadata": {},
   "outputs": [],
   "source": [
    "topic_generator = \"What are the most popular 20 topics on the internet?\""
   ]
  },
  {
   "cell_type": "markdown",
   "metadata": {},
   "source": [
    "### Term Generation Prompt"
   ]
  },
  {
   "cell_type": "code",
   "execution_count": 5,
   "metadata": {},
   "outputs": [],
   "source": [
    "def generate_term_generation_prompt(topics:list):\n",
    "    for topic in topics:\n",
    "        yield templates.term_generator.format(topic=topic)"
   ]
  },
  {
   "cell_type": "code",
   "execution_count": 6,
   "metadata": {},
   "outputs": [],
   "source": [
    "topics = json.load(open(os.path.join(data_dir, 'intermediate', 'topics.json')))\n",
    "prompt_gen = generate_term_generation_prompt(topics)"
   ]
  },
  {
   "cell_type": "code",
   "execution_count": 10,
   "metadata": {},
   "outputs": [
    {
     "name": "stdout",
     "output_type": "stream",
     "text": [
      "Make a list of 50 nonexistent made up terms about the following topic by using multiple common words.\n",
      "Do not combine words, just use at least 4 - 5 words together as a phenomenon.\n",
      "Do not use the words in the following list: [\"conventional\", \"traditional\", \"holistic\", \" phenomenon \", \"comprehensive \", \"technique\", \"-\"]\n",
      "Topic: Entertainment (movies, TV shows, music, celebrities): This covers the world of entertainment, including movies, television series, music albums, celebrity news, award shows, and celebrity gossip.\n",
      "\n",
      "Use multiple common words.\n",
      "Do not combine words. Use space between words. Do not use \"-\" character.\n"
     ]
    }
   ],
   "source": [
    "print(next(prompt_gen))"
   ]
  },
  {
   "cell_type": "markdown",
   "metadata": {},
   "source": [
    "### Transforming Term Candidates to Dataframe"
   ]
  },
  {
   "cell_type": "code",
   "execution_count": 11,
   "metadata": {},
   "outputs": [],
   "source": [
    "term_candidates = json.load(open(os.path.join(data_dir, 'intermediate', 'term_candidates.json')))"
   ]
  },
  {
   "cell_type": "code",
   "execution_count": 12,
   "metadata": {},
   "outputs": [],
   "source": [
    "data = []\n",
    "for index, item in enumerate(term_candidates):\n",
    "    terms = item.split(\"/n/n/n\")\n",
    "    for term in terms:\n",
    "        term_title, definition = term.split(\":\")\n",
    "        data.append({\"term\": term_title, \"explanation\": definition, \"topic\": topics[index]})\n",
    "\n",
    "term_candidates_df = pd.DataFrame(data)\n",
    "term_candidates_df[\"exists\"]= np.nan"
   ]
  },
  {
   "cell_type": "code",
   "execution_count": 13,
   "metadata": {},
   "outputs": [
    {
     "data": {
      "text/html": [
       "<div>\n",
       "<style scoped>\n",
       "    .dataframe tbody tr th:only-of-type {\n",
       "        vertical-align: middle;\n",
       "    }\n",
       "\n",
       "    .dataframe tbody tr th {\n",
       "        vertical-align: top;\n",
       "    }\n",
       "\n",
       "    .dataframe thead th {\n",
       "        text-align: right;\n",
       "    }\n",
       "</style>\n",
       "<table border=\"1\" class=\"dataframe\">\n",
       "  <thead>\n",
       "    <tr style=\"text-align: right;\">\n",
       "      <th></th>\n",
       "      <th>term</th>\n",
       "      <th>explanation</th>\n",
       "      <th>topic</th>\n",
       "      <th>exists</th>\n",
       "    </tr>\n",
       "  </thead>\n",
       "  <tbody>\n",
       "    <tr>\n",
       "      <th>0</th>\n",
       "      <td>Nano-Sync Fusion Technology</td>\n",
       "      <td>A revolutionary advancement in technology tha...</td>\n",
       "      <td>Technology and gadgets: This topic covers the ...</td>\n",
       "      <td>NaN</td>\n",
       "    </tr>\n",
       "    <tr>\n",
       "      <th>1</th>\n",
       "      <td>Quantum-Pulse Holography Interface</td>\n",
       "      <td>A cutting-edge interface that harnesses the p...</td>\n",
       "      <td>Technology and gadgets: This topic covers the ...</td>\n",
       "      <td>NaN</td>\n",
       "    </tr>\n",
       "    <tr>\n",
       "      <th>2</th>\n",
       "      <td>Neuro-Cognitive Acceleration System</td>\n",
       "      <td>A sophisticated system designed to enhance hu...</td>\n",
       "      <td>Technology and gadgets: This topic covers the ...</td>\n",
       "      <td>NaN</td>\n",
       "    </tr>\n",
       "    <tr>\n",
       "      <th>3</th>\n",
       "      <td>Hyper-Reality Immersion Module</td>\n",
       "      <td>An innovative module that enables users to im...</td>\n",
       "      <td>Technology and gadgets: This topic covers the ...</td>\n",
       "      <td>NaN</td>\n",
       "    </tr>\n",
       "    <tr>\n",
       "      <th>4</th>\n",
       "      <td>Aero-Adaptive Haptic Feedback</td>\n",
       "      <td>A tactile feedback technology that dynamicall...</td>\n",
       "      <td>Technology and gadgets: This topic covers the ...</td>\n",
       "      <td>NaN</td>\n",
       "    </tr>\n",
       "    <tr>\n",
       "      <th>...</th>\n",
       "      <td>...</td>\n",
       "      <td>...</td>\n",
       "      <td>...</td>\n",
       "      <td>...</td>\n",
       "    </tr>\n",
       "    <tr>\n",
       "      <th>1115</th>\n",
       "      <td>Virtual reality field trips</td>\n",
       "      <td>Immersive virtual reality experiences that si...</td>\n",
       "      <td>Education and online learning: This topic revo...</td>\n",
       "      <td>NaN</td>\n",
       "    </tr>\n",
       "    <tr>\n",
       "      <th>1116</th>\n",
       "      <td>Gamified mastery learning frameworks</td>\n",
       "      <td>Instructional frameworks that combine mastery...</td>\n",
       "      <td>Education and online learning: This topic revo...</td>\n",
       "      <td>NaN</td>\n",
       "    </tr>\n",
       "    <tr>\n",
       "      <th>1117</th>\n",
       "      <td>Multilingual e-learning platforms</td>\n",
       "      <td>Online learning platforms that offer educatio...</td>\n",
       "      <td>Education and online learning: This topic revo...</td>\n",
       "      <td>NaN</td>\n",
       "    </tr>\n",
       "    <tr>\n",
       "      <th>1118</th>\n",
       "      <td>Data-driven curriculum personalization</td>\n",
       "      <td>Utilizing learner data and analytics to dynam...</td>\n",
       "      <td>Education and online learning: This topic revo...</td>\n",
       "      <td>NaN</td>\n",
       "    </tr>\n",
       "    <tr>\n",
       "      <th>1119</th>\n",
       "      <td>Emotional intelligence skill-building modules</td>\n",
       "      <td>Learning modules specifically designed to dev...</td>\n",
       "      <td>Education and online learning: This topic revo...</td>\n",
       "      <td>NaN</td>\n",
       "    </tr>\n",
       "  </tbody>\n",
       "</table>\n",
       "<p>1120 rows × 4 columns</p>\n",
       "</div>"
      ],
      "text/plain": [
       "                                               term  \\\n",
       "0                       Nano-Sync Fusion Technology   \n",
       "1                Quantum-Pulse Holography Interface   \n",
       "2               Neuro-Cognitive Acceleration System   \n",
       "3                    Hyper-Reality Immersion Module   \n",
       "4                     Aero-Adaptive Haptic Feedback   \n",
       "...                                             ...   \n",
       "1115                    Virtual reality field trips   \n",
       "1116           Gamified mastery learning frameworks   \n",
       "1117              Multilingual e-learning platforms   \n",
       "1118         Data-driven curriculum personalization   \n",
       "1119  Emotional intelligence skill-building modules   \n",
       "\n",
       "                                            explanation  \\\n",
       "0      A revolutionary advancement in technology tha...   \n",
       "1      A cutting-edge interface that harnesses the p...   \n",
       "2      A sophisticated system designed to enhance hu...   \n",
       "3      An innovative module that enables users to im...   \n",
       "4      A tactile feedback technology that dynamicall...   \n",
       "...                                                 ...   \n",
       "1115   Immersive virtual reality experiences that si...   \n",
       "1116   Instructional frameworks that combine mastery...   \n",
       "1117   Online learning platforms that offer educatio...   \n",
       "1118   Utilizing learner data and analytics to dynam...   \n",
       "1119   Learning modules specifically designed to dev...   \n",
       "\n",
       "                                                  topic  exists  \n",
       "0     Technology and gadgets: This topic covers the ...     NaN  \n",
       "1     Technology and gadgets: This topic covers the ...     NaN  \n",
       "2     Technology and gadgets: This topic covers the ...     NaN  \n",
       "3     Technology and gadgets: This topic covers the ...     NaN  \n",
       "4     Technology and gadgets: This topic covers the ...     NaN  \n",
       "...                                                 ...     ...  \n",
       "1115  Education and online learning: This topic revo...     NaN  \n",
       "1116  Education and online learning: This topic revo...     NaN  \n",
       "1117  Education and online learning: This topic revo...     NaN  \n",
       "1118  Education and online learning: This topic revo...     NaN  \n",
       "1119  Education and online learning: This topic revo...     NaN  \n",
       "\n",
       "[1120 rows x 4 columns]"
      ]
     },
     "execution_count": 13,
     "metadata": {},
     "output_type": "execute_result"
    }
   ],
   "source": [
    "term_candidates_df"
   ]
  },
  {
   "cell_type": "markdown",
   "metadata": {},
   "source": [
    "### Verifying Hypothetical Terms"
   ]
  },
  {
   "cell_type": "code",
   "execution_count": 14,
   "metadata": {},
   "outputs": [
    {
     "name": "stdout",
     "output_type": "stream",
     "text": [
      "Getting keys\n"
     ]
    }
   ],
   "source": [
    "searcher = Searcher(settings)"
   ]
  },
  {
   "cell_type": "code",
   "execution_count": 15,
   "metadata": {},
   "outputs": [],
   "source": [
    "def search_nonexistent(df: pd.DataFrame):\n",
    "    for index, row in df.iterrows():\n",
    "        if not np.isnan(row[\"exists\"]):\n",
    "            continue\n",
    "        does_exists = searcher.exists()\n",
    "        df.loc[index, 'exists'] = does_exists"
   ]
  },
  {
   "cell_type": "code",
   "execution_count": 16,
   "metadata": {},
   "outputs": [
    {
     "data": {
      "text/plain": [
       "{'kind': 'customsearch#search',\n",
       " 'url': {'type': 'application/json',\n",
       "  'template': 'https://www.googleapis.com/customsearch/v1?q={searchTerms}&num={count?}&start={startIndex?}&lr={language?}&safe={safe?}&cx={cx?}&sort={sort?}&filter={filter?}&gl={gl?}&cr={cr?}&googlehost={googleHost?}&c2coff={disableCnTwTranslation?}&hq={hq?}&hl={hl?}&siteSearch={siteSearch?}&siteSearchFilter={siteSearchFilter?}&exactTerms={exactTerms?}&excludeTerms={excludeTerms?}&linkSite={linkSite?}&orTerms={orTerms?}&dateRestrict={dateRestrict?}&lowRange={lowRange?}&highRange={highRange?}&searchType={searchType}&fileType={fileType?}&rights={rights?}&imgSize={imgSize?}&imgType={imgType?}&imgColorType={imgColorType?}&imgDominantColor={imgDominantColor?}&alt=json'},\n",
       " 'queries': {'request': [{'title': 'Google Custom Search - \"Nano-Sync Fusion Technology\"',\n",
       "    'searchTerms': '\"Nano-Sync Fusion Technology\"',\n",
       "    'count': 10,\n",
       "    'startIndex': 1,\n",
       "    'inputEncoding': 'utf8',\n",
       "    'outputEncoding': 'utf8',\n",
       "    'safe': 'off',\n",
       "    'cx': 'c2d2cd685ed5941f1'}]},\n",
       " 'searchInformation': {'searchTime': 0.105189,\n",
       "  'formattedSearchTime': '0.11',\n",
       "  'totalResults': '0',\n",
       "  'formattedTotalResults': '0'}}"
      ]
     },
     "execution_count": 16,
     "metadata": {},
     "output_type": "execute_result"
    }
   ],
   "source": [
    "# testing searcher class\n",
    "searcher.search(\"Nano-Sync Fusion Technology\")"
   ]
  },
  {
   "cell_type": "code",
   "execution_count": 17,
   "metadata": {},
   "outputs": [],
   "source": [
    "term_candidates_path = os.path.join(data_dir, \"intermediate\", \"hypothetical_term_candidates.csv\")\n",
    "term_candidates_df = pd.read_csv(term_candidates_path)"
   ]
  },
  {
   "cell_type": "code",
   "execution_count": 18,
   "metadata": {},
   "outputs": [],
   "source": [
    "search_nonexistent(term_candidates_df)"
   ]
  },
  {
   "cell_type": "code",
   "execution_count": 19,
   "metadata": {},
   "outputs": [],
   "source": [
    "term_candidates_path = os.path.join(data_dir, 'intermediate', f\"term_candidates_{get_strtime()}.csv\")\n",
    "term_candidates_df.to_csv(term_candidates_path, index=False)"
   ]
  }
 ],
 "metadata": {
  "kernelspec": {
   "display_name": "venv",
   "language": "python",
   "name": "python3"
  },
  "language_info": {
   "codemirror_mode": {
    "name": "ipython",
    "version": 3
   },
   "file_extension": ".py",
   "mimetype": "text/x-python",
   "name": "python",
   "nbconvert_exporter": "python",
   "pygments_lexer": "ipython3",
   "version": "3.10.5"
  }
 },
 "nbformat": 4,
 "nbformat_minor": 2
}
